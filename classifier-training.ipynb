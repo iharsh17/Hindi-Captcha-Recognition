{
 "cells": [
  {
   "cell_type": "code",
   "execution_count": 1,
   "metadata": {},
   "outputs": [],
   "source": [
    "import pandas as pd\n",
    "import numpy as np\n",
    "import cv2\n",
    "\n",
    "import torch\n",
    "from torch import nn\n",
    "import torch.nn.functional as F\n",
    "from torch.utils.data import Dataset, DataLoader, RandomSampler, SequentialSampler, BatchSampler\n",
    "import torchvision as tv\n",
    "import torchmetrics\n",
    "import pytorch_lightning as pl\n",
    "from torchvision import transforms\n",
    "\n",
    "import wandb\n",
    "from pytorch_lightning.loggers import WandbLogger"
   ]
  },
  {
   "cell_type": "code",
   "execution_count": 2,
   "metadata": {},
   "outputs": [],
   "source": [
    "class CharacterDataset(Dataset):\n",
    "    def __init__(self, X, Y, transforms=None):\n",
    "        self.X = X\n",
    "        self.Y = Y\n",
    "        \n",
    "        self.transforms = transforms\n",
    "    \n",
    "    def __len__(self):\n",
    "        return len(self.Y)\n",
    "    \n",
    "    def __getitem__(self, idx):\n",
    "        '''Input image is scaled b/w 0,1'''\n",
    "        x= self.X[idx]\n",
    "        y= self.Y[idx]\n",
    "        \n",
    "        x = torch.tensor(x, dtype=torch.float)\n",
    "        y = torch.tensor(y, dtype=torch.long)\n",
    "        # adds a new axis at specified position\n",
    "        x = torch.unsqueeze(x, dim=1)\n",
    "        if self.transforms is not None:\n",
    "            x = self.transforms(x)\n",
    "        return x/255., y\n",
    "\n",
    "\n",
    "class SimpleBatchDataLoader:\n",
    "    def __init__(self, dataset, shuffle=True, drop_last=False, batch_size=32):\n",
    "        self.dataset = dataset\n",
    "        if shuffle:\n",
    "            self.sampler = RandomSampler(dataset)\n",
    "        else:\n",
    "            self.sampler = SequentialSampler(dataset)\n",
    "        \n",
    "        self.batch_sampler = BatchSampler(self.sampler, drop_last=drop_last, batch_size=batch_size)\n",
    "        \n",
    "    def __len__(self):\n",
    "        return len(self.batch_sampler)\n",
    "    \n",
    "    def __iter__(self):\n",
    "        for batch_idx in self.batch_sampler:\n",
    "            yield self.dataset[batch_idx]"
   ]
  },
  {
   "cell_type": "code",
   "execution_count": 3,
   "metadata": {},
   "outputs": [],
   "source": [
    "# add self.transforms for train time augmentations\n",
    "\n",
    "\n",
    "class DataModuleForCharacterClassification(pl.LightningDataModule):\n",
    "\n",
    "    def __init__(self, args, use_transforms=None):\n",
    "        super().__init__()\n",
    "        self.hparams = args\n",
    "        if use_transforms is not None:\n",
    "            self.transforms = transforms.Compose([\n",
    "                transforms.RandomRotation(10),\n",
    "                transforms.RandomAffine(10, shear=5),\n",
    "            ])\n",
    "        else:\n",
    "            self.transforms = None\n",
    "        \n",
    "    def prepare_data(self):\n",
    "        df = pd.read_csv('../input/devanagari-character-set/data.csv')\n",
    "        \n",
    "        ch_set = df.character.unique()\n",
    "        ch_set = [name for name in ch_set if name.startswith('character_')]\n",
    "        \n",
    "        ch2id = {name:int(name.split('_')[1]) for name in ch_set}\n",
    "        id2ch = {int(name.split('_')[1]) : name.split('_')[-1] for name in ch_set}\n",
    "        \n",
    "        id2devchar = {\n",
    "             1: 'क', 2: 'ख', 3: 'ग', 4: 'घ', 5: 'ङ', 6: 'च', 7: 'छ', 8: 'ज', 9: 'झ', 10: 'ञ',\n",
    "             11: 'ट', 12: 'ठ', 13: 'ड', 14: 'ढ', 15: 'ण', 16: 'त', 17: 'थ', 18: 'द', 19: 'ध',\n",
    "             20: 'न', 21: 'प', 22: 'फ', 23: 'ब', 24: 'भ', 25: 'म', 26: 'य', 27: 'र', 28: 'ल', \n",
    "             29: 'व', 30: 'श', 31: 'ष', 32: 'स', 33: 'ह', 34: 'क्ष', 35: 'त्र', 36: 'ज्ञ', 37: 'अ', \n",
    "             38: 'आ', 39: 'इ', 40: 'ई', 41: 'उ', 42: 'ऊ', 43: 'ऋ', 44: 'ए', 45: 'ऐ', 46: 'ओ', \n",
    "             47: 'औ', 48: 'अं', 49: 'अ:'\n",
    "        }\n",
    "        devchar2id = {v:k for k,v in id2devchar.items()}\n",
    "        \n",
    "        ch_used = self.hparams.class_names\n",
    "        id_used = [devchar2id[x] for x in ch_used]\n",
    "        \n",
    "        id2labels_map = {id_:i for i, id_ in enumerate(id_used)}\n",
    "        labels2id_map = {v:k for k,v in id2labels_map.items()}\n",
    "        \n",
    "        df = df.loc[df.character.str.startswith('character_'), :]\n",
    "        df.character = df.character.apply(lambda x:ch2id[x])\n",
    "        df = df.loc[df.character.isin(id_used),:]\n",
    "        df.character = df.character.apply(lambda x:id2labels_map[x])\n",
    "        \n",
    "        X = df.iloc[:, :-1].values.reshape(-1, 32, 32)\n",
    "        Y = df.iloc[:, -1].values\n",
    "        \n",
    "        from sklearn.model_selection import train_test_split\n",
    "        self.train_X, self.val_X, self.train_Y, self.val_Y = train_test_split(\n",
    "            X, Y, test_size=0.2, shuffle=True, random_state=420, stratify=Y\n",
    "        )\n",
    "        \n",
    "        self.ch_used = ch_used\n",
    "        self.labels2id_map = labels2id_map\n",
    "        \n",
    "        labels2devchar = {k:id2devchar[v] for k,v in labels2id_map.items()}\n",
    "        devchar2labels = {v:k for k,v in labels2devchar.items()}\n",
    "        \n",
    "        self.labels2devchar = labels2devchar\n",
    "        self.devchar2labels = devchar2labels\n",
    "        \n",
    "        del df\n",
    "        \n",
    "    def train_dataloader(self):\n",
    "        ds = CharacterDataset(self.train_X, self.train_Y, transforms=self.transforms)\n",
    "        return SimpleBatchDataLoader(ds, shuffle=True, drop_last=True, batch_size=self.hparams.batch_size)\n",
    "    \n",
    "    def val_dataloader(self):\n",
    "        ds = CharacterDataset(self.val_X, self.val_Y, transforms=None)\n",
    "        return SimpleBatchDataLoader(ds, shuffle=False, drop_last=True, batch_size=self.hparams.batch_size)"
   ]
  },
  {
   "cell_type": "code",
   "execution_count": 4,
   "metadata": {},
   "outputs": [],
   "source": [
    "class HindiCharNet(nn.Module):\n",
    "    '''\n",
    "    For using forward/__call__ function:\n",
    "    Input: Tensor of shape (Batch, 1, 32, 32) ie (Batch, Channels, X, Y) \n",
    "    Output: logits as a Tensor of shape (Batch, NUM_CLASSES)\n",
    "    '''\n",
    "    def __init__(self, NUM_CLASSES, NUM_CHANNELS=1):\n",
    "        super(HindiCharNet, self).__init__()\n",
    "        \n",
    "        self.conv1 = nn.Conv2d(NUM_CHANNELS, 100, 5)\n",
    "        self.conv1_bn = nn.BatchNorm2d(100)\n",
    "        self.pool = nn.MaxPool2d(2, 2)\n",
    "        self.conv2 = nn.Conv2d(100, 150, 3)\n",
    "        self.conv2_bn = nn.BatchNorm2d(150)\n",
    "        self.conv3 = nn.Conv2d(150, 250, 1)\n",
    "        self.conv3_bn = nn.BatchNorm2d(250)\n",
    "        self.fc1 = nn.Linear(250 * 3 * 3, 350)\n",
    "        self.fc1_bn = nn.BatchNorm1d(350)\n",
    "        self.fc2 = nn.Linear(350, NUM_CLASSES)\n",
    "        self.dropout = nn.Dropout(p=0.5)\n",
    "\n",
    "    def forward(self, x):\n",
    "        \n",
    "        x = self.pool(F.elu(self.conv1(x)))\n",
    "        x = self.dropout(self.conv1_bn(x))\n",
    "        x = self.pool(F.elu(self.conv2(x)))\n",
    "        x = self.dropout(self.conv2_bn(x))\n",
    "        x = self.pool(F.elu(self.conv3(x)))\n",
    "        x = self.dropout(self.conv3_bn(x))\n",
    "        # x.shape = (BATCH, 250, 3, 3)\n",
    "        x = x.view(-1, 250 * 3 * 3)\n",
    "        x = F.elu(self.fc1(x))\n",
    "        x = self.dropout(self.fc1_bn(x))\n",
    "        x = self.fc2(x)\n",
    "        return x"
   ]
  },
  {
   "cell_type": "code",
   "execution_count": 5,
   "metadata": {},
   "outputs": [],
   "source": [
    "class LightningModuleForCharacterClassification(pl.LightningModule):\n",
    "    '''\n",
    "    pytorch lightning trainer class\n",
    "    '''\n",
    "    \n",
    "    def __init__(self, args, model, **kwargs):\n",
    "        super().__init__()\n",
    "\n",
    "        self.save_hyperparameters(args)\n",
    "        self.model = model\n",
    "        \n",
    "        self.accuracy = torchmetrics.Accuracy()\n",
    "        self.confusion_matrix = torchmetrics.ConfusionMatrix(num_classes=self.hparams.num_classes)\n",
    "        \n",
    "        self.outputs = {}\n",
    "\n",
    "    def training_step(self, batch, batch_idx):\n",
    "        x, y = batch\n",
    "        y_pred = self.model(x)\n",
    "        loss = F.cross_entropy(y_pred, y)\n",
    "        class_probs = y_pred.softmax(-1)\n",
    "        self.log(\"train_loss\", loss.item(), on_step=True, on_epoch=True, prog_bar=True, logger=True)\n",
    "        self.log(\"train_acc\", self.accuracy(class_probs, y), on_step=True, on_epoch=True, prog_bar=True, logger=True)\n",
    "        return loss\n",
    "\n",
    "    def validation_step(self, batch, batch_idx):\n",
    "        x, y = batch\n",
    "        y_pred = self.model(x)\n",
    "        loss = F.cross_entropy(y_pred, y)\n",
    "        class_probs = y_pred.softmax(-1)\n",
    "        self.log(\"valid_loss\", loss.item(), on_step=False, on_epoch=True, prog_bar=False, logger=True)\n",
    "        self.log(\"valid_acc\", self.accuracy(class_probs, y), on_step=False, on_epoch=True, prog_bar=True, logger=True)\n",
    "        return {'class_probs':class_probs, 'y_true':y}\n",
    "    \n",
    "    def test_step(self, batch, batch_idx):\n",
    "        x, y = batch\n",
    "        y_pred = self.model(x)\n",
    "        loss = F.cross_entropy(y_pred, y)\n",
    "        class_probs = y_pred.softmax(-1)\n",
    "        return {'class_probs':class_probs, 'y_true':y}\n",
    "    \n",
    "    def validation_epoch_end(self, outputs):\n",
    "        class_probs = torch.cat([out[\"class_probs\"] for out in outputs])\n",
    "        y_true = torch.cat([out[\"y_true\"] for out in outputs])\n",
    "        c_mat = self.confusion_matrix(class_probs, y_true)\n",
    "        \n",
    "        self.outputs[f\"val_c_mat_epoch{self.current_epoch}\"] = c_mat\n",
    "        \n",
    "        self.logger.experiment.log({\n",
    "            'val_conf_mat': wandb.plot.confusion_matrix(\n",
    "                y_true=y_true.to(\"cpu\").detach().numpy(), \n",
    "                probs=class_probs.to(\"cpu\").detach().numpy(), \n",
    "                class_names=self.hparams.class_names)\n",
    "        })\n",
    "        \n",
    "        if self.current_epoch>4:\n",
    "            temp_model = self.model\n",
    "            temp_model.cpu()\n",
    "            torch.save(temp_model.state_dict(), f'hindi-char-net-26chars-v8-epoch{self.current_epoch}.pt')\n",
    "            temp_model.cuda()\n",
    "            \n",
    "    def test_epoch_end(self, outputs):\n",
    "        class_probs = torch.cat([out[\"class_probs\"] for out in outputs])\n",
    "        y_true = torch.cat([out[\"y_true\"] for out in outputs])\n",
    "        c_mat = self.confusion_matrix(class_probs, y_true)\n",
    "        self.outputs[\"test_c_mat\"] = c_mat\n",
    "        \n",
    "    def configure_optimizers(self):\n",
    "        return torch.optim.AdamW(self.model.parameters(), lr=self.hparams.base_lr)"
   ]
  },
  {
   "cell_type": "code",
   "execution_count": 6,
   "metadata": {},
   "outputs": [
    {
     "name": "stdout",
     "output_type": "stream",
     "text": [
      "['क', 'ख', 'ग', 'घ', 'ङ', 'च', 'छ', 'ज', 'झ', 'ञ', 'ट', 'ठ', 'ड', 'ढ', 'ण', 'त', 'थ', 'द', 'ध', 'न', 'प', 'फ', 'ब', 'भ', 'म', 'य', 'र', 'ल', 'व', 'श', 'ष', 'स', 'ह', 'क्ष', 'त्र', 'ज्ञ']\n"
     ]
    }
   ],
   "source": [
    "def get_char_set(num):\n",
    "    all_chars = {1: 'क', 2: 'ख', 3: 'ग', 4: 'घ', 5: 'ङ', 6: 'च', 7: 'छ', 8: 'ज', 9: 'झ', 10: 'ञ', 11: 'ट', 12: 'ठ', 13: 'ड', 14: 'ढ', 15: 'ण', 16: 'त', 17: 'थ', 18: 'द', 19: 'ध', 20: 'न', 21: 'प', 22: 'फ', 23: 'ब', 24: 'भ', 25: 'म', 26: 'य', 27: 'र', 28: 'ल', 29: 'व', 30: 'श', 31: 'ष', 32: 'स', 33: 'ह', 34: 'क्ष', 35: 'त्र', 36: 'ज्ञ', 37: 'अ', 38: 'आ', 39: 'इ', 40: 'ई', 41: 'उ', 42: 'ऊ', 43: 'ऋ', 44: 'ए', 45: 'ऐ', 46: 'ओ', 47: 'औ', 48: 'अं', 49: 'अ:'}\n",
    "\n",
    "    if num == 49:\n",
    "        ch_used = list(all_chars.values())\n",
    "    else:\n",
    "        import random\n",
    "        ch_used = random.sample(list(all_chars.values())[:36], num)\n",
    "    return ch_used\n",
    "\n",
    "print(get_char_set(49)[:36])"
   ]
  },
  {
   "cell_type": "code",
   "execution_count": 7,
   "metadata": {},
   "outputs": [],
   "source": [
    "all_chars = ['क', 'ख', 'ग', 'घ', 'ङ', 'च', 'छ', 'ज', 'झ', 'ञ', 'ट', 'ठ', 'ड', 'ढ', 'ण', 'त', 'थ', 'द', 'ध', 'न', 'प', 'फ', 'ब', 'भ', 'म', 'य', 'र', 'ल', 'व', 'श', 'ष', 'स', 'ह', 'क्ष', 'त्र', 'ज्ञ']\n",
    "\n",
    "used =   [\n",
    "    'क', 'ख', 'घ', 'च', 'छ', 'ज', 'झ', 'ञ', 'ट', 'ठ', 'ड', 'ढ',\n",
    "    'त','थ','द', 'न','प', 'फ', 'म', 'र', 'ल', 'व', 'स', 'ह', 'क्ष', 'त्र', \n",
    "]\n",
    "\n",
    "removed = ['ग','ङ', 'ध', 'ब', 'भ', 'य', 'श','ष','ण','ज्ञ']"
   ]
  },
  {
   "cell_type": "code",
   "execution_count": 8,
   "metadata": {},
   "outputs": [
    {
     "data": {
      "text/plain": [
       "26"
      ]
     },
     "execution_count": 8,
     "metadata": {},
     "output_type": "execute_result"
    }
   ],
   "source": [
    "set(used).intersection(set(removed))\n",
    "len(set(used).union(set(removed)))\n",
    "len(used)"
   ]
  },
  {
   "cell_type": "code",
   "execution_count": 9,
   "metadata": {},
   "outputs": [],
   "source": [
    "import argparse\n",
    "args = argparse.Namespace()\n",
    "\n",
    "args.max_epochs = 10\n",
    "args.gpus = int(torch.cuda.is_available())\n",
    "\n",
    "args.batch_size = 32\n",
    "args.base_lr = 0.001\n",
    "\n",
    "args.class_names =  [\n",
    "    'क', 'ख', 'घ', 'च', 'छ', 'ज', 'झ', 'ञ', 'ट', 'ठ', 'ड', 'ढ',\n",
    "    'त','थ','द', 'न','प', 'फ', 'म', 'र', 'ल', 'व', 'स', 'ह', 'क्ष', 'त्र', \n",
    "]\n",
    "\n",
    "args.num_classes = len(args.class_names)"
   ]
  },
  {
   "cell_type": "code",
   "execution_count": 10,
   "metadata": {},
   "outputs": [
    {
     "data": {
      "text/plain": [
       "26"
      ]
     },
     "execution_count": 10,
     "metadata": {},
     "output_type": "execute_result"
    }
   ],
   "source": [
    "args.num_classes"
   ]
  },
  {
   "cell_type": "code",
   "execution_count": 11,
   "metadata": {},
   "outputs": [],
   "source": [
    "args.logger = WandbLogger( project=\"mosaic\", entity='mosaic2k21')\n",
    "trainer = pl.Trainer.from_argparse_args(args)\n",
    "\n",
    "\n",
    "data = DataModuleForCharacterClassification(args)\n",
    "model = HindiCharNet(args.num_classes)\n",
    "pl_model = LightningModuleForCharacterClassification(args, model)"
   ]
  },
  {
   "cell_type": "code",
   "execution_count": null,
   "metadata": {
    "scrolled": false
   },
   "outputs": [],
   "source": [
    "trainer.fit(pl_model, data)"
   ]
  },
  {
   "cell_type": "code",
   "execution_count": 13,
   "metadata": {},
   "outputs": [
    {
     "data": {
      "text/plain": [
       "{0: 'क',\n",
       " 1: 'ख',\n",
       " 2: 'घ',\n",
       " 3: 'च',\n",
       " 4: 'छ',\n",
       " 5: 'ज',\n",
       " 6: 'झ',\n",
       " 7: 'ञ',\n",
       " 8: 'ट',\n",
       " 9: 'ठ',\n",
       " 10: 'ड',\n",
       " 11: 'ढ',\n",
       " 12: 'त',\n",
       " 13: 'थ',\n",
       " 14: 'द',\n",
       " 15: 'न',\n",
       " 16: 'प',\n",
       " 17: 'फ',\n",
       " 18: 'म',\n",
       " 19: 'र',\n",
       " 20: 'ल',\n",
       " 21: 'व',\n",
       " 22: 'स',\n",
       " 23: 'ह',\n",
       " 24: 'क्ष',\n",
       " 25: 'त्र'}"
      ]
     },
     "execution_count": 13,
     "metadata": {},
     "output_type": "execute_result"
    }
   ],
   "source": [
    "data.labels2devchar"
   ]
  },
  {
   "cell_type": "code",
   "execution_count": 14,
   "metadata": {},
   "outputs": [],
   "source": [
    "import json\n",
    "\n",
    "with open(\"labels2devchar-26chars-v8.json\", 'w') as outfile:\n",
    "    json.dump(data.labels2devchar, outfile)"
   ]
  },
  {
   "cell_type": "code",
   "execution_count": 19,
   "metadata": {},
   "outputs": [
    {
     "data": {
      "text/plain": [
       "['hindi-char-net-26chars-v8-epoch9.pt', 'labels2devchar-26chars-v8.json']"
      ]
     },
     "execution_count": 19,
     "metadata": {},
     "output_type": "execute_result"
    }
   ],
   "source": [
    "import glob\n",
    "save_artifacts_to_wandb = glob.glob(\"*v8*.pt\")\n",
    "save_artifacts_to_wandb.append(\"labels2devchar-26chars-v8.json\")\n",
    "save_artifacts_to_wandb"
   ]
  },
  {
   "cell_type": "code",
   "execution_count": 20,
   "metadata": {},
   "outputs": [],
   "source": [
    "for artifact in save_artifacts_to_wandb:\n",
    "    wandb.save(artifact)"
   ]
  },
  {
   "cell_type": "code",
   "execution_count": 29,
   "metadata": {},
   "outputs": [],
   "source": [
    "# model = pl_model.model.to('cpu')\n",
    "# torch.save(model.state_dict(), 'hindi-char-net-26chars.pt')\n",
    "# model.eval()"
   ]
  },
  {
   "cell_type": "code",
   "execution_count": 21,
   "metadata": {},
   "outputs": [
    {
     "data": {
      "text/plain": [
       "HindiCharNet(\n",
       "  (conv1): Conv2d(1, 100, kernel_size=(5, 5), stride=(1, 1))\n",
       "  (conv1_bn): BatchNorm2d(100, eps=1e-05, momentum=0.1, affine=True, track_running_stats=True)\n",
       "  (pool): MaxPool2d(kernel_size=2, stride=2, padding=0, dilation=1, ceil_mode=False)\n",
       "  (conv2): Conv2d(100, 150, kernel_size=(3, 3), stride=(1, 1))\n",
       "  (conv2_bn): BatchNorm2d(150, eps=1e-05, momentum=0.1, affine=True, track_running_stats=True)\n",
       "  (conv3): Conv2d(150, 250, kernel_size=(1, 1), stride=(1, 1))\n",
       "  (conv3_bn): BatchNorm2d(250, eps=1e-05, momentum=0.1, affine=True, track_running_stats=True)\n",
       "  (fc1): Linear(in_features=2250, out_features=350, bias=True)\n",
       "  (fc1_bn): BatchNorm1d(350, eps=1e-05, momentum=0.1, affine=True, track_running_stats=True)\n",
       "  (fc2): Linear(in_features=350, out_features=26, bias=True)\n",
       "  (dropout): Dropout(p=0.5, inplace=False)\n",
       ")"
      ]
     },
     "execution_count": 21,
     "metadata": {},
     "output_type": "execute_result"
    }
   ],
   "source": [
    "model = HindiCharNet(26)\n",
    "\n",
    "model.load_state_dict(torch.load('hindi-char-net-26chars-v8-epoch9.pt'))\n",
    "model.eval()"
   ]
  },
  {
   "cell_type": "code",
   "execution_count": null,
   "metadata": {},
   "outputs": [],
   "source": []
  },
  {
   "cell_type": "code",
   "execution_count": null,
   "metadata": {
    "scrolled": false
   },
   "outputs": [],
   "source": [
    "wandb.finish()"
   ]
  },
  {
   "cell_type": "code",
   "execution_count": 23,
   "metadata": {},
   "outputs": [],
   "source": [
    "cmat9 = pl_model.outputs['val_c_mat_epoch9'].detach().cpu().numpy()"
   ]
  },
  {
   "cell_type": "code",
   "execution_count": 17,
   "metadata": {},
   "outputs": [],
   "source": [
    "x = cmat9.copy()\n",
    "diags = []\n",
    "for i in range(x.shape[0]):\n",
    "    diags.append(x[i,i])\n",
    "max(diags), min(diags)\n",
    "\n",
    "diags = np.asarray(diags)\n",
    "sorted_labels = np.argsort(diags)\n",
    "print(np.sort(diags))\n",
    "\n",
    "[data.labels2devchar[i] for i in sorted_labels[:5]]\n",
    "\n",
    "print([data.labels2devchar[i] for i in sorted_labels[5:]])"
   ]
  },
  {
   "cell_type": "code",
   "execution_count": 24,
   "metadata": {},
   "outputs": [],
   "source": [
    "x = cmat9.copy()\n",
    "min_x = x.min()\n",
    "for i in range(x.shape[0]):\n",
    "    x[i,i] = min_x"
   ]
  },
  {
   "cell_type": "code",
   "execution_count": 25,
   "metadata": {},
   "outputs": [
    {
     "data": {
      "text/plain": [
       "(array([ 0.,  1.,  2.,  3.,  4.,  5.,  6.,  8., 17.], dtype=float32),\n",
       " array([604,  50,   6,   8,   3,   1,   1,   2,   1]))"
      ]
     },
     "execution_count": 25,
     "metadata": {},
     "output_type": "execute_result"
    }
   ],
   "source": [
    "a, b = np.unique(x, return_counts=True)\n",
    "a, b"
   ]
  },
  {
   "cell_type": "code",
   "execution_count": 29,
   "metadata": {},
   "outputs": [
    {
     "name": "stdout",
     "output_type": "stream",
     "text": [
      "द ढ\n",
      "\n",
      "\n",
      "\n",
      "घ थ\n",
      "द ट\n"
     ]
    }
   ],
   "source": [
    "# for num in a[b==1]:\n",
    "#     x_, y_ = np.where(x==num)\n",
    "#     print(data.labels2devchar[x_[0]], data.labels2devchar[y_[0]])\n",
    "\n",
    "# print('\\n\\n')\n",
    "for x_, y_ in zip(np.where(x==17)[0], np.where(x==17)[1]):\n",
    "    print(data.labels2devchar[x_], data.labels2devchar[y_])\n",
    "print('\\n\\n')\n",
    "for x_, y_ in zip(np.where(x==8)[0], np.where(x==8)[1]):\n",
    "    print(data.labels2devchar[x_], data.labels2devchar[y_])"
   ]
  },
  {
   "cell_type": "code",
   "execution_count": 49,
   "metadata": {},
   "outputs": [],
   "source": [
    "may_remove = [('ज्ञ', 'ज')]"
   ]
  },
  {
   "cell_type": "code",
   "execution_count": 17,
   "metadata": {},
   "outputs": [
    {
     "data": {
      "image/png": "[encoded data removed]",
      "text/plain": [
       "<Figure size 432x288 with 2 Axes>"
      ]
     },
     "metadata": {
      "needs_background": "light"
     },
     "output_type": "display_data"
    }
   ],
   "source": [
    "import matplotlib.pyplot as plt\n",
    "import seaborn as sns\n",
    "\n",
    "sns.heatmap(x, cmap='Greens');"
   ]
  },
  {
   "cell_type": "code",
   "execution_count": 22,
   "metadata": {},
   "outputs": [],
   "source": [
    "import os\n",
    "test_samples = os.listdir('../input/tempdata/')\n",
    "test_samples = [f'../input/tempdata/{x}' for x in test_samples]"
   ]
  },
  {
   "cell_type": "code",
   "execution_count": 23,
   "metadata": {},
   "outputs": [],
   "source": [
    "def infer_from_tensors(img_tensor):\n",
    "    with torch.no_grad():\n",
    "        logits = model(img_tensor)\n",
    "    return data.labels2devchar[logits.softmax(-1).argmax(-1)[0].item()]\n",
    "\n",
    "def infer_from_path(im_path):\n",
    "    im = cv2.imread(im_path)\n",
    "    im = cv2.cvtColor(im,cv2.COLOR_BGR2GRAY)\n",
    "    im = cv2.resize(im, (32,32))\n",
    "    \n",
    "    img_tensor = torch.tensor(im, dtype=torch.float)\n",
    "    img_tensor = img_tensor.unsqueeze(0).unsqueeze(0)/255.\n",
    "#     breakpoint()\n",
    "    predicted_devchar = infer_from_tensors(img_tensor)\n",
    "    print(predicted_devchar)\n",
    "    return predicted_devchar, im"
   ]
  },
  {
   "cell_type": "code",
   "execution_count": 24,
   "metadata": {},
   "outputs": [],
   "source": [
    "import matplotlib.pyplot as plt"
   ]
  },
  {
   "cell_type": "code",
   "execution_count": 27,
   "metadata": {},
   "outputs": [
    {
     "name": "stdout",
     "output_type": "stream",
     "text": [
      "ल\n"
     ]
    },
    {
     "data": {
      "image/png": "[encoded data removed]",
      "text/plain": [
       "<Figure size 432x288 with 1 Axes>"
      ]
     },
     "metadata": {
      "needs_background": "light"
     },
     "output_type": "display_data"
    },
    {
     "name": "stdout",
     "output_type": "stream",
     "text": [
      "प\n"
     ]
    },
    {
     "data": {
      "image/png": "[encoded data removed]",
      "text/plain": [
       "<Figure size 432x288 with 1 Axes>"
      ]
     },
     "metadata": {
      "needs_background": "light"
     },
     "output_type": "display_data"
    },
    {
     "name": "stdout",
     "output_type": "stream",
     "text": [
      "क\n"
     ]
    },
    {
     "data": {
      "image/png": "[encoded data removed]",
      "text/plain": [
       "<Figure size 432x288 with 1 Axes>"
      ]
     },
     "metadata": {
      "needs_background": "light"
     },
     "output_type": "display_data"
    },
    {
     "name": "stdout",
     "output_type": "stream",
     "text": [
      "म\n"
     ]
    },
    {
     "data": {
      "image/png": "[encoded data removed]",
      "text/plain": [
       "<Figure size 432x288 with 1 Axes>"
      ]
     },
     "metadata": {
      "needs_background": "light"
     },
     "output_type": "display_data"
    },
    {
     "name": "stdout",
     "output_type": "stream",
     "text": [
      "त\n"
     ]
    },
    {
     "data": {
      "image/png": "[encoded data removed]",
      "text/plain": [
       "<Figure size 432x288 with 1 Axes>"
      ]
     },
     "metadata": {
      "needs_background": "light"
     },
     "output_type": "display_data"
    },
    {
     "name": "stdout",
     "output_type": "stream",
     "text": [
      "ल\n"
     ]
    },
    {
     "data": {
      "image/png": "[encoded data removed]",
      "text/plain": [
       "<Figure size 432x288 with 1 Axes>"
      ]
     },
     "metadata": {
      "needs_background": "light"
     },
     "output_type": "display_data"
    }
   ],
   "source": [
    "for test_sample in test_samples:\n",
    "    pred, im = infer_from_path(test_sample)\n",
    "    plt.imshow(im, cmap='gray')\n",
    "#     plt.title(pred)\n",
    "    plt.show()"
   ]
  }
 ],
 "metadata": {
  "kernelspec": {
   "display_name": "Python 3",
   "language": "python",
   "name": "python3"
  },
  "language_info": {
   "codemirror_mode": {
    "name": "ipython",
    "version": 3
   },
   "file_extension": ".py",
   "mimetype": "text/x-python",
   "name": "python",
   "nbconvert_exporter": "python",
   "pygments_lexer": "ipython3",
   "version": "3.8.8"
  }
 },
 "nbformat": 4,
 "nbformat_minor": 4
}
